{
 "cells": [
  {
   "cell_type": "markdown",
   "metadata": {},
   "source": [
    "# カスタムコンテナハンズオン\n",
    "\n",
    "インターネットにつながる環境でコンテナを作り、インターネットにつながらないSandbox環境でモデル開発をする方法のハンズオンをします。\n",
    "\n",
    "本ハンズオンでは scikit-learnを使い 決定木(decision tree)のアルゴリズムを例にします。\n",
    "\n",
    "- [scikit-learn](http://scikit-learn.org/stable/)\n",
    "\n",
    "- [decision tree](http://scikit-learn.org/stable/modules/tree.html)\n"
   ]
  },
  {
   "cell_type": "markdown",
   "metadata": {},
   "source": [
    "# Part 1: SageMakerのNotebookを使って学習コンテナの作成と登録\n",
    "\n",
    "LandingVPCインターネットGatewayを有し、NATを使ってインターネット上のライブラリーをダウンロードすることができます。\n",
    "Sandbox環境ではインターネットにアクセスできないため、このLandingVPC環境で学習に必要なライブラリーを備えたdockerコンテナを作り、ECRに登録します。\n",
    "\n",
    "### SageMakerによるDocker container の実行\n",
    "\n",
    "学習と推論は同じコンテナイメージを使います。、Amazon SageMaker はコンテナに `train` と `serve`のコマンドを渡して、学習と推論を使い分けています。具的には次の 2 つのコマンドを使用して、イメージを実行します。\n",
    "\n",
    "`docker run <イメージ> train`\n",
    "\n",
    "`docker run <イメージ> serve`\n",
    "\n",
    "\n",
    "\n",
    "#### 学習コンテナについて\n",
    "\n",
    "学習コンテナは　`/opt/ml` 以下のつぎのディレクトリ構成にあるファイルを利用します。\n",
    "\n",
    "    /opt/ml\n",
    "    ├── input\n",
    "    │   ├── config\n",
    "    │   │   ├── hyperparameters.json\n",
    "    │   │   └── resourceConfig.json\n",
    "    │   └── data\n",
    "    │       └── <channel_name>\n",
    "    │           └── <input data>\n",
    "    ├── model\n",
    "    │   └── <model files>\n",
    "    └── output\n",
    "        └── failure\n",
    "\n",
    "##### input\n",
    "\n",
    "* `/opt/ml/input/config`には、設定ファイルが配置されます。 `hyperparameters.json` は、ハイパーパラメーターをJSON形式で記述します。`resourceConfig.json` は、分散学習に使います。scikit-learnでは分散学習をサポートしていないので、ここでは無視されます。\n",
    "* `/opt/ml/input/data/<channel_name>/` (for File mode) 入力データです。  channels は `CreateTrainingJob`を呼ぶと作られます。S3から channelのディレクトリにファイルがコピーされます。\n",
    "\n",
    "#####  output\n",
    "\n",
    "* `/opt/ml/model/` 学習されたモデルファイルの出力先です。tar と gzip 形式で圧縮されてアーカイブされます。\n",
    "* `/opt/ml/output` デバッグとトラブルシューティング用の詳細がログとして記録されます。成功しているときは、無視してください。\n",
    "\n",
    "#### 推論について\n",
    "\n",
    "推論ホスト用コンテナが、推論のHTTPリクエストに返答します。推論は RESTful APIが呼び出されます。　ハンズオンの例では Python のマイクロフレームワークである Flask を使用します。\n",
    "\n",
    "![Request serving stack](stack.png)\n",
    "\n",
    "\n",
    "Amazon SageMaker 推論エンドポイントは 2つリクエストの応答を提供します。\n",
    "\n",
    "* `/ping` の `GET` を受信すると、推論エンドポイントがアクティブな時は 200を返します。 \n",
    "* `/invocations` の `POST` リクエストを受信するとアルゴリズムの応答を返します。\n",
    "\n",
    "\n",
    "推論コンテナのディレクトリ配置は学習コンテナと同じ以下となります。\n",
    "\n",
    "    /opt/ml\n",
    "    └── model\n",
    "        └── <model files>\n",
    "\n"
   ]
  },
  {
   "cell_type": "markdown",
   "metadata": {},
   "source": [
    "### コンテナを作成するファイル\n",
    "\n",
    "`container` ディレクトリにコンテナイメージ作成に必要な全てのファイルがあります。\n",
    "\n",
    "    .\n",
    "    ├── Dockerfile\n",
    "    ├── build_and_push.sh\n",
    "    └── decision_trees\n",
    "        ├── nginx.conf\n",
    "        ├── predictor.py\n",
    "        ├── serve\n",
    "        ├── train\n",
    "        └── wsgi.py\n",
    "\n",
    "各ファイルの説明:\n",
    "\n",
    "* __`Dockerfile`__ コンテナイメージをビルドする際の設定ファイル \n",
    "* __`build_and_push.sh`__ コンテナイメージのビルドとECRのリポジトリへのプッシュを行うスクリプト \n",
    "* __`decision_trees`__ 学習時に実行されるスクリプト\n",
    "\n",
    "* __`nginx.conf`__ Nginx用の設定ファイル\n",
    "* __`predictor.py`__ gunicornから呼び出されるアプリケーションが記述されたスクリプトです。 \n",
    "* __`serve`__ 推論エンドポイント作成時に実行されるスクリプト \n",
    "* __`train`__  学習時に実行されるスクリプト \n",
    "* __`wsgi.py`__  gunicornがリクエストを受けた際にFlaskアプリを起動するファイル \n",
    "\n",
    "`train` and `predictor.py`をアプリケーションに合わせて変更することで動作します。\n"
   ]
  },
  {
   "cell_type": "markdown",
   "metadata": {},
   "source": [
    "### Dockerfileについて\n",
    "\n",
    "Dockerfileに、必要なパッケージやアプリ、各種設定をすることで必要なDockerイメージを作成することができます。\n",
    "\n",
    "Pythonの学習スタックを考慮して、標準的な Ubuntu環境に scikit-learnに必要なツールをインストールするように Dockerファイルに記載しています。\n",
    "\n",
    "まずは、Dockerfileの例を見てましょう。\n"
   ]
  },
  {
   "cell_type": "code",
   "execution_count": null,
   "metadata": {},
   "outputs": [],
   "source": [
    "!cat container/Dockerfile"
   ]
  },
  {
   "cell_type": "markdown",
   "metadata": {},
   "source": [
    "### コンテナイメージの作成\n",
    "\n",
    "\n",
    "コンテナイメージを`docker build`で作成します。そのイメージを ECR に`docker push`で登録します。\n",
    "\n"
   ]
  },
  {
   "cell_type": "code",
   "execution_count": null,
   "metadata": {},
   "outputs": [],
   "source": [
    "%%sh\n",
    "\n",
    "# The name of our algorithm\n",
    "algorithm_name=sagemaker-decision-trees\n",
    "\n",
    "cd container\n",
    "\n",
    "chmod +x decision_trees/train\n",
    "chmod +x decision_trees/serve\n",
    "\n",
    "account=$(aws sts get-caller-identity --query Account --output text)\n",
    "\n",
    "# Get the region defined in the current configuration (default to us-west-2 if none defined)\n",
    "region=$(aws configure get region)\n",
    "region=${region:-us-west-2}\n",
    "\n",
    "fullname=\"${account}.dkr.ecr.${region}.amazonaws.com/${algorithm_name}:latest\"\n",
    "\n",
    "# If the repository doesn't exist in ECR, create it.\n",
    "aws ecr describe-repositories --repository-names \"${algorithm_name}\" > /dev/null 2>&1\n",
    "\n",
    "if [ $? -ne 0 ]\n",
    "then\n",
    "    aws ecr create-repository --repository-name \"${algorithm_name}\" > /dev/null\n",
    "fi\n",
    "\n",
    "# Get the login command from ECR and execute it directly\n",
    "$(aws ecr get-login --region ${region} --no-include-email)\n",
    "\n",
    "# Build the docker image locally with the image name and then push it to ECR\n",
    "# with the full name.\n",
    "\n",
    "docker build  -t ${algorithm_name} .\n",
    "docker tag ${algorithm_name} ${fullname}\n",
    "\n",
    "docker push ${fullname}"
   ]
  },
  {
   "cell_type": "markdown",
   "metadata": {},
   "source": [
    "### 関連ファイルをS3にアップロード\n",
    "Sandbox環境にデータのnotebookを送るため、S3にアップロードします。\n",
    "\n"
   ]
  },
  {
   "cell_type": "code",
   "execution_count": null,
   "metadata": {},
   "outputs": [],
   "source": [
    "import sagemaker as sage\n",
    "\n",
    "prefix = 'LAB-handson'\n",
    "SRC_DIRECTORY = '../scikit_custom'\n",
    "\n",
    "sess = sage.Session()\n",
    "\n",
    "src_location = sess.upload_data(SRC_DIRECTORY, key_prefix=prefix)"
   ]
  },
  {
   "cell_type": "code",
   "execution_count": null,
   "metadata": {},
   "outputs": [],
   "source": [
    "print(src_location)"
   ]
  }
 ],
 "metadata": {
  "kernelspec": {
   "display_name": "conda_python3",
   "language": "python",
   "name": "conda_python3"
  },
  "language_info": {
   "codemirror_mode": {
    "name": "ipython",
    "version": 3
   },
   "file_extension": ".py",
   "mimetype": "text/x-python",
   "name": "python",
   "nbconvert_exporter": "python",
   "pygments_lexer": "ipython3",
   "version": "3.6.5"
  }
 },
 "nbformat": 4,
 "nbformat_minor": 2
}
