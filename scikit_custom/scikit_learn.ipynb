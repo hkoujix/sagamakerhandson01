{
 "cells": [
  {
   "cell_type": "markdown",
   "metadata": {},
   "source": [
    "# カスタムコンテナハンズオン　part2\n"
   ]
  },
  {
   "cell_type": "markdown",
   "metadata": {},
   "source": [
    "# Part 2: カスタムコンテナを使って Amazon SageMakerで学習と推論をする\n",
    "\n",
    "\n",
    "## 環境セットアップ\n",
    "\n",
    "S3バケットとロールを準備します。"
   ]
  },
  {
   "cell_type": "code",
   "execution_count": null,
   "metadata": {},
   "outputs": [],
   "source": [
    "# S3 prefix\n",
    "prefix = 'LAB-scikit-iris'\n",
    "\n",
    "# Define IAM role\n",
    "import boto3\n",
    "import re\n",
    "\n",
    "import os\n",
    "import numpy as np\n",
    "import pandas as pd\n",
    "from sagemaker import get_execution_role\n",
    "\n",
    "role = get_execution_role()"
   ]
  },
  {
   "cell_type": "markdown",
   "metadata": {},
   "source": [
    "## SageMakerのセッションを取得\n",
    "\n",
    "SageMakerを操作するためのセッションを取得します。"
   ]
  },
  {
   "cell_type": "code",
   "execution_count": null,
   "metadata": {},
   "outputs": [],
   "source": [
    "import sagemaker as sage\n",
    "from time import gmtime, strftime\n",
    "\n",
    "sess = sage.Session()"
   ]
  },
  {
   "cell_type": "markdown",
   "metadata": {},
   "source": [
    "## 学習データをS3にアップロード\n",
    "\n",
    "SageMaker の学習時に利用するデータは、S3 に置く必要があります。ローカルの data ディレクトリにあるデータをS3にアップロードします。\n",
    "デフォルトでは SageMaker は sagemaker-{region}-{your aws account number} というバケットを使用します。当該バケットがない場合には、自動で新しく作成します。upload_data() メソッドの引数に bucket=XXXX という形でデータを配置するバケットを指定することも可能です。"
   ]
  },
  {
   "cell_type": "code",
   "execution_count": null,
   "metadata": {},
   "outputs": [],
   "source": [
    "WORK_DIRECTORY = 'data'\n",
    "\n",
    "data_location = sess.upload_data(WORK_DIRECTORY, key_prefix=prefix)\n",
    "\n",
    "print(data_location)"
   ]
  },
  {
   "cell_type": "markdown",
   "metadata": {},
   "source": [
    "##  モデルの学習\n",
    "\n",
    "SageMakerではアルゴリズムの学習する  `Estimator` を作成しまｓ。この  `Estimator` に学習に必要な定義をして `fit` を実行すると学習コンテナが起動して学習を開始します。\n",
    "\n",
    "Estimaterの引数：\n",
    "*  __container name__  ECRにあるコンテナを指定します。ハンズオンで作成してコンテナを使います。\n",
    "*  __role__    Amazon SageMaker がユーザーに代わってタスクを実行するロール.\n",
    "*  __instance count__   モデルのトレーニングに使用される ML コンピューティングインスタンスの数.\n",
    "*  __instance type__   モデルのトレーニングに使用される ML コンピューティングインスタンスのタイプ.\n",
    "*  __output path__    トレーニング結果を保存する S3 へのパス\n",
    "*  __session__    トレーニングジョブで使用されるその他の AWS サービスとのやり取りを管理するセッションオブジェクト\n"
   ]
  },
  {
   "cell_type": "markdown",
   "metadata": {},
   "source": [
    "### VPC の設定\n",
    "学習コンテナをプライベートVPC内で実行するには、 Estimatorのパラメーターにサブネットとセキュリティグループを指定します。\n",
    "\n",
    "例\n",
    "\n",
    " * subnets=['subnet-002b8823c9926b248','subnet-0bb14b8511a1bfcb3']\n",
    " * security_group_ids=['sg-0c88910b00bc4c4b2'] "
   ]
  },
  {
   "cell_type": "code",
   "execution_count": null,
   "metadata": {},
   "outputs": [],
   "source": [
    "account = sess.boto_session.client('sts').get_caller_identity()['Account']\n",
    "region = sess.boto_session.region_name\n",
    "image = '{}.dkr.ecr.{}.amazonaws.com/sagemaker-decision-trees:latest'.format(account, region)\n",
    "print (region)\n",
    "print (image)"
   ]
  },
  {
   "cell_type": "code",
   "execution_count": null,
   "metadata": {},
   "outputs": [],
   "source": [
    "tree = sage.estimator.Estimator(image,\n",
    "                       role, 1, 'ml.c4.2xlarge',\n",
    "                       output_path=\"s3://{}/output\".format(sess.default_bucket()),\n",
    "                       sagemaker_session=sess,\n",
    "                       subnets=['subnet-012fb80f85fe58d14','subnet-0c1799f3fc936e0b2'],  ## 要更新 ##\n",
    "                       security_group_ids=['sg-0f6a1f0a4e7a2c01d']                       ## 要更新 ##   \n",
    "                               )"
   ]
  },
  {
   "cell_type": "code",
   "execution_count": null,
   "metadata": {},
   "outputs": [],
   "source": [
    "tree.fit(data_location)"
   ]
  },
  {
   "cell_type": "markdown",
   "metadata": {},
   "source": [
    "## モデルのホスティング"
   ]
  },
  {
   "cell_type": "markdown",
   "metadata": {},
   "source": [
    "### 推論エンドポイントのVPC設定\n",
    "ホスティング用のプライベートVPCを設定するには、VpcConfigパラメーターにサブネットとセキュリティグループを指定します。 サブネットはAZの異なる複数が必要です。\n",
    "\n",
    "VPC configの設定例\n",
    "\n",
    "  vpc_config_override=\n",
    "          {'Subnets':['subnet-0931f9262f9680ba4','subnet-019763bdd150fb74e'], \n",
    "           'SecurityGroupIds':['sg-0a0612496ec95007a'] }"
   ]
  },
  {
   "cell_type": "markdown",
   "metadata": {},
   "source": [
    "### 推論エンドポイントのデプロイ\n",
    "\n",
    "推論を行うために学習したモデルをデプロイします。deploy() メソッドでは、デプロイ先エンドポイントのインスタンス数、インスタンスタイプを指定します。こちらもインスタンスタイプを local にすることで，このインスタンス内にエンドポイントを作成します。"
   ]
  },
  {
   "cell_type": "code",
   "execution_count": null,
   "metadata": {},
   "outputs": [],
   "source": [
    "from sagemaker.predictor import csv_serializer\n",
    "predictor = tree.deploy(1, 'ml.m4.xlarge', serializer=csv_serializer,\n",
    "                        vpc_config_override={'Subnets':['subnet-012fb80f85fe58d14','subnet-0c1799f3fc936e0b2'], ## 要更新 ##\n",
    "                                                         'SecurityGroupIds':['sg-0f6a1f0a4e7a2c01d'] }) ## 要更新 ##"
   ]
  },
  {
   "cell_type": "markdown",
   "metadata": {},
   "source": [
    "### 推論の実行"
   ]
  },
  {
   "cell_type": "code",
   "execution_count": null,
   "metadata": {},
   "outputs": [],
   "source": [
    "shape=pd.read_csv(\"data/iris.csv\", header=None)\n",
    "shape.sample(3)"
   ]
  },
  {
   "cell_type": "code",
   "execution_count": null,
   "metadata": {},
   "outputs": [],
   "source": [
    "# drop the label column in the training set\n",
    "shape.drop(shape.columns[[0]],axis=1,inplace=True)\n",
    "shape.sample(3)"
   ]
  },
  {
   "cell_type": "code",
   "execution_count": null,
   "metadata": {},
   "outputs": [],
   "source": [
    "import itertools\n",
    "\n",
    "a = [50*i for i in range(3)]\n",
    "b = [40+i for i in range(10)]\n",
    "indices = [i+j for i,j in itertools.product(a,b)]\n",
    "\n",
    "test_data=shape.iloc[indices[:-1]]"
   ]
  },
  {
   "cell_type": "markdown",
   "metadata": {},
   "source": [
    "#### 予測モデルに推論APIでリクエスト"
   ]
  },
  {
   "cell_type": "code",
   "execution_count": null,
   "metadata": {},
   "outputs": [],
   "source": [
    "print(predictor.predict(test_data.values).decode('utf-8'))"
   ]
  },
  {
   "cell_type": "markdown",
   "metadata": {},
   "source": [
    "### Cleanup\n",
    "エンドポイントのデプロイ中はコストが常時発生します。　テストが終わったらエンドポイントを削除してコストを抑えましょう"
   ]
  },
  {
   "cell_type": "code",
   "execution_count": null,
   "metadata": {},
   "outputs": [],
   "source": [
    "sess.delete_endpoint(predictor.endpoint)"
   ]
  },
  {
   "cell_type": "markdown",
   "metadata": {},
   "source": [
    "## Batch Transform によるジョブ実行\n",
    "入力データをS3に置き、バッチジョブで推論を実行し、その結果をS3に出力します。"
   ]
  },
  {
   "cell_type": "markdown",
   "metadata": {},
   "source": [
    "### Transform ジョブの作成\n",
    "`Transformer` を作成します。\n",
    "\n",
    "*  __instance count__ 推論のインスタンス数\n",
    "*  __instance type__ 推論のインスタンスタイプ\n",
    "*  __output path__　推論結果のS3の出力先"
   ]
  },
  {
   "cell_type": "code",
   "execution_count": null,
   "metadata": {},
   "outputs": [],
   "source": [
    "transform_output_folder = \"batch-transform-output\"\n",
    "output_path=\"s3://{}/{}\".format(sess.default_bucket(), transform_output_folder)\n",
    "\n",
    "transformer = tree.transformer(instance_count=1,\n",
    "                               instance_type='ml.m4.xlarge',\n",
    "                               output_path=output_path,\n",
    "                               assemble_with='Line',\n",
    "                               accept='text/csv'\n",
    "                              )"
   ]
  },
  {
   "cell_type": "markdown",
   "metadata": {},
   "source": [
    "\n",
    "* The __data_location__ 入力データのS3の場所\n",
    "* The __content_type__ 入力データのMIMEタイプ\n",
    "* The __split_type__ 入力データのデリミタ\n",
    "* The __input_filter__ 　入力データの中で参照する最初のカラムID。その前のカラムを無視します。"
   ]
  },
  {
   "cell_type": "code",
   "execution_count": null,
   "metadata": {},
   "outputs": [],
   "source": [
    "transformer.transform(data_location, content_type='text/csv', split_type='Line', input_filter='$[1:]')\n",
    "transformer.wait()"
   ]
  },
  {
   "cell_type": "markdown",
   "metadata": {},
   "source": [
    "参照[CreateTransformJob API](https://docs.aws.amazon.com/sagemaker/latest/dg/API_CreateTransformJob.html)"
   ]
  },
  {
   "cell_type": "markdown",
   "metadata": {},
   "source": [
    "### 結果出力の確認\n",
    "S3に出力されたデータを確認します。"
   ]
  },
  {
   "cell_type": "code",
   "execution_count": null,
   "metadata": {},
   "outputs": [],
   "source": [
    "s3_client = sess.boto_session.client('s3')\n",
    "s3_client.download_file(sess.default_bucket(), \"{}/iris.csv.out\".format(transform_output_folder), '/tmp/iris.csv.out')\n",
    "with open('/tmp/iris.csv.out') as f:\n",
    "    results = f.readlines()   \n",
    "print(\"Transform results: \\n{}\".format(''.join(results)))"
   ]
  }
 ],
 "metadata": {
  "kernelspec": {
   "display_name": "conda_python3",
   "language": "python",
   "name": "conda_python3"
  },
  "language_info": {
   "codemirror_mode": {
    "name": "ipython",
    "version": 3
   },
   "file_extension": ".py",
   "mimetype": "text/x-python",
   "name": "python",
   "nbconvert_exporter": "python",
   "pygments_lexer": "ipython3",
   "version": "3.6.5"
  }
 },
 "nbformat": 4,
 "nbformat_minor": 2
}
